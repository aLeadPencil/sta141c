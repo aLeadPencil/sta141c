{
 "cells": [
  {
   "cell_type": "code",
   "execution_count": null,
   "metadata": {},
   "outputs": [],
   "source": [
    "import datetime\n",
    "\n",
    "start_time = datetime.datetime.now()"
   ]
  },
  {
   "cell_type": "code",
   "execution_count": null,
   "metadata": {},
   "outputs": [],
   "source": [
    "import numpy as np\n",
    "import pandas as pd\n",
    "import zipfile\n",
    "import matplotlib.pyplot as plt\n",
    "import seaborn as sns\n",
    "import warnings\n",
    "\n",
    "warnings.filterwarnings('ignore')"
   ]
  },
  {
   "cell_type": "code",
   "execution_count": null,
   "metadata": {},
   "outputs": [],
   "source": [
    "def annual_median(zip_file):\n",
    "    \"\"\"Access a zip file and reads through the csv files in the zip file one by one.\n",
    "        Computes median of the sum of the column 'total_obligation' according to year\n",
    "        Returns the median, agency_id, file_size, and row_count of the file that was read in\n",
    "    \n",
    "    Args:\n",
    "        zip_file (string)    : name of the zip file to be accessed\n",
    "    \n",
    "    Returns:\n",
    "        median_list (list)   : List of the median values calculated\n",
    "        agency_list (list)   : List of the agency_id's for each file\n",
    "        file_size_list (list): List of the file_sizes for each file\n",
    "        row_count_list (list): List of the row_counts for each file\n",
    "    \n",
    "    \"\"\"\n",
    "    award_zip = zipfile.ZipFile(zip_file)\n",
    "    file_names = award_zip.namelist()[1:]\n",
    "    median_list = []\n",
    "    agency_list = []\n",
    "    file_size_list = []\n",
    "    row_count_list = []\n",
    "    \n",
    "    for i in range(len(file_names)):\n",
    "        file_df = pd.read_csv(award_zip.open(file_names[i]), low_memory = False)\n",
    "        file_df['period_of_performance_start_date'] = pd.to_datetime(file_df['period_of_performance_start_date'],\n",
    "                                                                    errors = 'coerce')\n",
    "        file_df['year'] = file_df['period_of_performance_start_date'].dt.year\n",
    "        file_sum = file_df.groupby(['year'], as_index = False)['total_obligation'].sum()\n",
    "        file_sum_median = file_sum['total_obligation'].median()\n",
    "        \n",
    "        median_list.append(file_sum_median)\n",
    "        agency_list.append(file_df['funding_agency_id'][0])\n",
    "        row_count_list.append(file_df.shape[0])\n",
    "        \n",
    "    for info in award_zip.infolist()[1:]:\n",
    "        file_size_list.append(info.file_size)\n",
    "        \n",
    "    return median_list, agency_list, file_size_list, row_count_list"
   ]
  },
  {
   "cell_type": "code",
   "execution_count": null,
   "metadata": {},
   "outputs": [],
   "source": [
    "zip_file = 'awards.zip'\n",
    "median_list, agency_list, file_size_list, row_count_list = annual_median(zip_file)"
   ]
  },
  {
   "cell_type": "code",
   "execution_count": null,
   "metadata": {},
   "outputs": [],
   "source": [
    "df = pd.DataFrame({'median': median_list, 'agency_id': agency_list, 'file_size': file_size_list,\n",
    "                  'row_count': row_count_list})\n",
    "\n",
    "df['median_log'] = np.log(df['median'])\n",
    "df2 = df[df['median_log'] > 0]\n",
    "df.sort_values(['median'], ascending = False).tail()"
   ]
  },
  {
   "cell_type": "code",
   "execution_count": null,
   "metadata": {},
   "outputs": [],
   "source": [
    "df['median'].describe()"
   ]
  },
  {
   "cell_type": "code",
   "execution_count": null,
   "metadata": {},
   "outputs": [],
   "source": [
    "plt.figure(figsize = (18, 7))\n",
    "\n",
    "plt.subplot(1, 2, 1)\n",
    "sns.distplot(df['median'], kde = False)\n",
    "plt.title('Distribution Plot of Median Spending')\n",
    "plt.xlabel('Spending')\n",
    "plt.ylabel('Count')\n",
    "\n",
    "plt.subplot(1, 2, 2)\n",
    "sns.boxplot(df['median'])\n",
    "plt.title('Boxplot of Median Spending')\n",
    "plt.xlabel('Spending')\n",
    "\n",
    "plt.show()"
   ]
  },
  {
   "cell_type": "code",
   "execution_count": null,
   "metadata": {},
   "outputs": [],
   "source": [
    "df2['median_log'].describe()"
   ]
  },
  {
   "cell_type": "code",
   "execution_count": null,
   "metadata": {},
   "outputs": [],
   "source": [
    "plt.figure(figsize = (15, 7))\n",
    "\n",
    "plt.subplot(1, 2, 1)\n",
    "sns.distplot(df2['median_log'], kde = False)\n",
    "plt.title('Distribution Plot of log(Median) Spending')\n",
    "plt.xlabel('Spending')\n",
    "plt.ylabel('Count')\n",
    "\n",
    "plt.subplot(1, 2, 2)\n",
    "sns.boxplot(df2['median_log'])\n",
    "plt.title('Boxplot of log(Median) Spending')\n",
    "plt.xlabel('Spending')\n",
    "\n",
    "plt.show()"
   ]
  },
  {
   "cell_type": "code",
   "execution_count": null,
   "metadata": {},
   "outputs": [],
   "source": [
    "df['file_size'].describe()"
   ]
  },
  {
   "cell_type": "code",
   "execution_count": null,
   "metadata": {},
   "outputs": [],
   "source": [
    "plt.figure(figsize = (15, 7))\n",
    "\n",
    "plt.subplot(1, 2, 1)\n",
    "sns.distplot(df['file_size'], kde = False)\n",
    "plt.title('Distribution of File Size')\n",
    "plt.xlabel('File Size')\n",
    "plt.ylabel('Count')\n",
    "\n",
    "plt.subplot(1, 2, 2)\n",
    "sns.boxplot(df['file_size'])\n",
    "plt.title('Boxplot of File Size')\n",
    "plt.xlabel('File Size')\n",
    "\n",
    "plt.show()"
   ]
  },
  {
   "cell_type": "code",
   "execution_count": null,
   "metadata": {},
   "outputs": [],
   "source": [
    "def head_tail(df, column, n_rows):\n",
    "    \"\"\"Sorts a dataframe by values according to the given column and returns both the head and tail of the dataframe\n",
    "    \n",
    "    Args:\n",
    "        column (string): column name used to sort the dataframe\n",
    "        n_rows (int)   : number of rows to return for each head and tail\n",
    "        \n",
    "    Returns:\n",
    "        A dataframe of the head and tail rows of the initial dataframe\n",
    "    \"\"\"\n",
    "\n",
    "    df = df.sort_values([column])\n",
    "    df = df.head(n_rows).append(df.tail(n_rows))\n",
    "    \n",
    "    return df\n",
    "\n",
    "head_tail(df, column = 'file_size', n_rows = 5)"
   ]
  },
  {
   "cell_type": "code",
   "execution_count": null,
   "metadata": {},
   "outputs": [],
   "source": [
    "end_time = datetime.datetime.now()\n",
    "run_time = end_time - start_time\n",
    "time_difference_in_minutes = run_time / datetime.timedelta(minutes = 1)\n",
    "\n",
    "print('time taken to process all the data in minutes (excluding 0.csv): ', time_difference_in_minutes)"
   ]
  }
 ],
 "metadata": {
  "kernelspec": {
   "display_name": "Python 3",
   "language": "python",
   "name": "python3"
  },
  "language_info": {
   "codemirror_mode": {
    "name": "ipython",
    "version": 3
   },
   "file_extension": ".py",
   "mimetype": "text/x-python",
   "name": "python",
   "nbconvert_exporter": "python",
   "pygments_lexer": "ipython3",
   "version": "3.7.0"
  }
 },
 "nbformat": 4,
 "nbformat_minor": 2
}
