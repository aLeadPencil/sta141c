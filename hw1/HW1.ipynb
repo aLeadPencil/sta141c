{
 "cells": [
  {
   "cell_type": "code",
   "execution_count": 1,
   "metadata": {},
   "outputs": [
    {
     "data": {
      "text/html": [
       "<script>\n",
       "code_show=true; \n",
       "function code_toggle() {\n",
       " if (code_show){\n",
       " $('div.input').hide();\n",
       " } else {\n",
       " $('div.input').show();\n",
       " }\n",
       " code_show = !code_show\n",
       "} \n",
       "$( document ).ready(code_toggle);\n",
       "</script>\n",
       "The raw code for this IPython notebook is by default hidden for easier reading.\n",
       "To toggle on/off the raw code, click <a href=\"javascript:code_toggle()\">here</a>."
      ],
      "text/plain": [
       "<IPython.core.display.HTML object>"
      ]
     },
     "execution_count": 1,
     "metadata": {},
     "output_type": "execute_result"
    }
   ],
   "source": [
    "from IPython.display import HTML\n",
    "\n",
    "HTML('''<script>\n",
    "code_show=true; \n",
    "function code_toggle() {\n",
    " if (code_show){\n",
    " $('div.input').hide();\n",
    " } else {\n",
    " $('div.input').show();\n",
    " }\n",
    " code_show = !code_show\n",
    "} \n",
    "$( document ).ready(code_toggle);\n",
    "</script>\n",
    "The raw code for this IPython notebook is by default hidden for easier reading.\n",
    "To toggle on/off the raw code, click <a href=\"javascript:code_toggle()\">here</a>.''')"
   ]
  },
  {
   "cell_type": "code",
   "execution_count": 2,
   "metadata": {},
   "outputs": [],
   "source": [
    "import datetime\n",
    "\n",
    "start_time = datetime.datetime.now()"
   ]
  },
  {
   "cell_type": "markdown",
   "metadata": {},
   "source": [
    "### USEFUL LINKS\n",
    "* https://stackoverflow.com/questions/26942476/reading-csv-zipped-files-in-python\n",
    "* https://www.youtube.com/watch?v=jT1ebRvLhz8\n",
    "* https://pymotw.com/2/zipfile/\n",
    "* https://github.com/pandas-dev/pandas/issues/18691\n",
    "* https://stackoverflow.com/questions/1345827/how-do-i-find-the-time-difference-between-two-datetime-objects-in-python"
   ]
  },
  {
   "cell_type": "code",
   "execution_count": 3,
   "metadata": {},
   "outputs": [],
   "source": [
    "import numpy as np\n",
    "import pandas as pd\n",
    "import zipfile\n",
    "import matplotlib.pyplot as plt\n",
    "import seaborn as sns\n",
    "import warnings\n",
    "\n",
    "warnings.filterwarnings('ignore')"
   ]
  },
  {
   "cell_type": "code",
   "execution_count": 4,
   "metadata": {},
   "outputs": [],
   "source": [
    "def annual_median(zip_file):\n",
    "    \"\"\"Access a zip file and reads through the csv files in the zip file one by one.\n",
    "        Computes median of the sum of the column 'total_obligation' according to year\n",
    "        Returns the median, agency_id, file_size, and row_count of the file that was read in\n",
    "    \n",
    "    Args:\n",
    "        zip_file (string)    : name of the zip file to be accessed\n",
    "    \n",
    "    Returns:\n",
    "        median_list (list)   : List of the median values calculated\n",
    "        agency_list (list)   : List of the agency_id's for each file\n",
    "        file_size_list (list): List of the file_sizes for each file\n",
    "        row_count_list (list): List of the row_counts for each file\n",
    "    \n",
    "    \"\"\"\n",
    "    award_zip = zipfile.ZipFile(zip_file)\n",
    "    file_names = award_zip.namelist()[1:]\n",
    "    median_list = []\n",
    "    agency_list = []\n",
    "    file_size_list = []\n",
    "    row_count_list = []\n",
    "    \n",
    "    for i in range(len(file_names)):\n",
    "        file_df = pd.read_csv(award_zip.open(file_names[i]), low_memory = False)\n",
    "        file_df['period_of_performance_start_date'] = pd.to_datetime(file_df['period_of_performance_start_date'],\n",
    "                                                                    errors = 'coerce')\n",
    "        file_df['year'] = file_df['period_of_performance_start_date'].dt.year\n",
    "        file_sum = file_df.groupby(['year'], as_index = False)['total_obligation'].sum()\n",
    "        file_sum_median = file_sum['total_obligation'].median()\n",
    "        \n",
    "        median_list.append(file_sum_median)\n",
    "        agency_list.append(file_df['funding_agency_id'][0])\n",
    "        row_count_list.append(file_df.shape[0])\n",
    "        \n",
    "    for info in award_zip.infolist()[1:]:\n",
    "        file_size_list.append(info.file_size)\n",
    "        \n",
    "    return median_list, agency_list, file_size_list, row_count_list"
   ]
  },
  {
   "cell_type": "code",
   "execution_count": 5,
   "metadata": {},
   "outputs": [],
   "source": [
    "zip_file = 'awards.zip'\n",
    "median_list, agency_list, file_size_list, row_count_list = annual_median(zip_file)"
   ]
  },
  {
   "cell_type": "markdown",
   "metadata": {},
   "source": [
    "### 1.1 Which agencies have the highest median annual spending?\n",
    "\n",
    "__Steps taken to find the agencies with the highest median annual spending__\n",
    "\n",
    "* Read each file into a dataframe one by one\n",
    "* Extract year from 'period_of_performance_start_date' column to create a 'year' column. (Pandas only records dates from 1677-09-22  to 2262-04-11 so some rows are recorded as NaN values)\n",
    "* Group the data according to the unique years and calculated the sum of 'total_obligation' for each unique year\n",
    "* Calculate the median of the results of the step above\n",
    "* Stored that information into a list\n",
    "\n",
    "__Top 5 agencies with the highest median spending__\n",
    "\n",
    "* Agencies with the ID's 1219, 862, 930, 315, and 561\n",
    "* 'funding_agency_id' is used instead 'funding_agency_name' because there are duplicates of 'funding_agency_name' (maybe due to some agencies having very similar names)"
   ]
  },
  {
   "cell_type": "code",
   "execution_count": 6,
   "metadata": {},
   "outputs": [
    {
     "data": {
      "text/html": [
       "<div>\n",
       "<style scoped>\n",
       "    .dataframe tbody tr th:only-of-type {\n",
       "        vertical-align: middle;\n",
       "    }\n",
       "\n",
       "    .dataframe tbody tr th {\n",
       "        vertical-align: top;\n",
       "    }\n",
       "\n",
       "    .dataframe thead th {\n",
       "        text-align: right;\n",
       "    }\n",
       "</style>\n",
       "<table border=\"1\" class=\"dataframe\">\n",
       "  <thead>\n",
       "    <tr style=\"text-align: right;\">\n",
       "      <th></th>\n",
       "      <th>median</th>\n",
       "      <th>agency_id</th>\n",
       "      <th>file_size</th>\n",
       "      <th>row_count</th>\n",
       "      <th>median_log</th>\n",
       "    </tr>\n",
       "  </thead>\n",
       "  <tbody>\n",
       "    <tr>\n",
       "      <th>511</th>\n",
       "      <td>0.0</td>\n",
       "      <td>609</td>\n",
       "      <td>301</td>\n",
       "      <td>1</td>\n",
       "      <td>-inf</td>\n",
       "    </tr>\n",
       "    <tr>\n",
       "      <th>274</th>\n",
       "      <td>0.0</td>\n",
       "      <td>1460</td>\n",
       "      <td>203</td>\n",
       "      <td>1</td>\n",
       "      <td>-inf</td>\n",
       "    </tr>\n",
       "    <tr>\n",
       "      <th>243</th>\n",
       "      <td>-115.0</td>\n",
       "      <td>1399</td>\n",
       "      <td>215</td>\n",
       "      <td>1</td>\n",
       "      <td>NaN</td>\n",
       "    </tr>\n",
       "    <tr>\n",
       "      <th>214</th>\n",
       "      <td>-6000.0</td>\n",
       "      <td>1347</td>\n",
       "      <td>199</td>\n",
       "      <td>1</td>\n",
       "      <td>NaN</td>\n",
       "    </tr>\n",
       "    <tr>\n",
       "      <th>251</th>\n",
       "      <td>-10697.0</td>\n",
       "      <td>1406</td>\n",
       "      <td>809</td>\n",
       "      <td>1</td>\n",
       "      <td>NaN</td>\n",
       "    </tr>\n",
       "  </tbody>\n",
       "</table>\n",
       "</div>"
      ],
      "text/plain": [
       "      median  agency_id  file_size  row_count  median_log\n",
       "511      0.0        609        301          1        -inf\n",
       "274      0.0       1460        203          1        -inf\n",
       "243   -115.0       1399        215          1         NaN\n",
       "214  -6000.0       1347        199          1         NaN\n",
       "251 -10697.0       1406        809          1         NaN"
      ]
     },
     "execution_count": 6,
     "metadata": {},
     "output_type": "execute_result"
    }
   ],
   "source": [
    "df = pd.DataFrame({'median': median_list, 'agency_id': agency_list, 'file_size': file_size_list,\n",
    "                  'row_count': row_count_list})\n",
    "\n",
    "df['median_log'] = np.log(df['median'])\n",
    "df2 = df[df['median_log'] > 0]\n",
    "df.sort_values(['median'], ascending = False).tail()"
   ]
  },
  {
   "cell_type": "markdown",
   "metadata": {},
   "source": [
    "### 1.2 Qualitatively describe the distribution of median annual spending.\n",
    "\n",
    "* The values for the summary statistics of the median are shown below\n",
    "* A couple files had a negative or 0 median (Files 1406, 1347, 1399, 1460, 609). From the dataframe as shown above, I noticed all the files only had 1 record. For the negative median files, maybe they were records of refunds/grants? For the 0 median files, maybe the record entries were mistakes or maybe they were incomplete/waiting for more information.\n",
    "* To visualize the distribution of median annual spending, a distribution plot and boxplot were created using the medians found in the previous question\n",
    "* From the plots, we can see that the data is heavily right skewed with many outliers\n",
    "* Some reasons as to why this is the case is that there are outlier agencies that spend a lot more money in less frequent purchases."
   ]
  },
  {
   "cell_type": "code",
   "execution_count": 7,
   "metadata": {},
   "outputs": [
    {
     "data": {
      "text/plain": [
       "count    7.200000e+02\n",
       "mean     1.628547e+08\n",
       "std      8.117395e+08\n",
       "min     -1.069700e+04\n",
       "25%      1.060689e+05\n",
       "50%      1.076168e+06\n",
       "75%      1.301890e+07\n",
       "max      1.449544e+10\n",
       "Name: median, dtype: float64"
      ]
     },
     "execution_count": 7,
     "metadata": {},
     "output_type": "execute_result"
    }
   ],
   "source": [
    "df['median'].describe()"
   ]
  },
  {
   "cell_type": "code",
   "execution_count": 8,
   "metadata": {
    "scrolled": false
   },
   "outputs": [
    {
     "data": {
      "image/png": "[encoded data removed]",
      "text/plain": [
       "<Figure size 1296x504 with 2 Axes>"
      ]
     },
     "metadata": {
      "needs_background": "light"
     },
     "output_type": "display_data"
    }
   ],
   "source": [
    "plt.figure(figsize = (18, 7))\n",
    "\n",
    "plt.subplot(1, 2, 1)\n",
    "sns.distplot(df['median'], kde = False)\n",
    "plt.title('Distribution Plot of Median Spending')\n",
    "plt.xlabel('Spending')\n",
    "plt.ylabel('Count')\n",
    "\n",
    "plt.subplot(1, 2, 2)\n",
    "sns.boxplot(df['median'])\n",
    "plt.title('Boxplot of Median Spending')\n",
    "plt.xlabel('Spending')\n",
    "\n",
    "plt.show()"
   ]
  },
  {
   "cell_type": "markdown",
   "metadata": {},
   "source": [
    "### 1.3 Qualitatively describe the distribution of the logarithm of the median annual spending. Plot the histogram.\n",
    "\n",
    "* The values for the summary statistics of the log(median) are shown below\n",
    "\n",
    "__Steps taken to obtain the data for the plots of the logarithm of the median annual spending__\n",
    "\n",
    "* While taking the logarithm of the median annual spending, some values returned as -inf and NaN so the datafrane had to subsetted to remove those values. The cause of that was because a couple of the median values were 0 or negative.\n",
    "* To visualize the distribution for the log of the median annual spending, a distribution plot and boxplot were created.\n",
    "* Compared to the previous plots, the distribution seems more normally distributed. "
   ]
  },
  {
   "cell_type": "code",
   "execution_count": 9,
   "metadata": {},
   "outputs": [
    {
     "data": {
      "text/plain": [
       "count    714.000000\n",
       "mean      14.235102\n",
       "std        3.396376\n",
       "min        6.445720\n",
       "25%       11.647108\n",
       "50%       13.930871\n",
       "75%       16.441510\n",
       "max       23.397100\n",
       "Name: median_log, dtype: float64"
      ]
     },
     "execution_count": 9,
     "metadata": {},
     "output_type": "execute_result"
    }
   ],
   "source": [
    "df2['median_log'].describe()"
   ]
  },
  {
   "cell_type": "code",
   "execution_count": 10,
   "metadata": {},
   "outputs": [
    {
     "data": {
      "image/png": "[encoded data removed]",
      "text/plain": [
       "<Figure size 1080x504 with 2 Axes>"
      ]
     },
     "metadata": {
      "needs_background": "light"
     },
     "output_type": "display_data"
    }
   ],
   "source": [
    "plt.figure(figsize = (15, 7))\n",
    "\n",
    "plt.subplot(1, 2, 1)\n",
    "sns.distplot(df2['median_log'], kde = False)\n",
    "plt.title('Distribution Plot of log(Median) Spending')\n",
    "plt.xlabel('Spending')\n",
    "plt.ylabel('Count')\n",
    "\n",
    "plt.subplot(1, 2, 2)\n",
    "sns.boxplot(df2['median_log'])\n",
    "plt.title('Boxplot of log(Median) Spending')\n",
    "plt.xlabel('Spending')\n",
    "\n",
    "plt.show()"
   ]
  },
  {
   "cell_type": "markdown",
   "metadata": {},
   "source": [
    "### 1.4 Is there a clear separation between agencies that spend a large amount of money, and those which spend less money?\n",
    "\n",
    "* From the plots shown in 1.3, I don't see a clear separation between agencies that spend a large amount of money and those which spend less money. Maybe for the first graph, organizations that spend a lot of money do so less frequently. "
   ]
  },
  {
   "cell_type": "markdown",
   "metadata": {},
   "source": [
    "### 2.1 Qualitatively describe the distribution of the file sizes\n",
    "\n",
    "* The values for the summary statistics of the file sizes are shown below\n",
    "* To visualize the distribution of file sizes, a distribution plot and boxplot were created\n",
    "* Similar to the plots of the median, the distribution for file sizes are also heavily right skewed with a couple extreme outliers"
   ]
  },
  {
   "cell_type": "code",
   "execution_count": 11,
   "metadata": {},
   "outputs": [
    {
     "data": {
      "text/plain": [
       "count    7.200000e+02\n",
       "mean     7.195041e+06\n",
       "std      7.839927e+07\n",
       "min      1.890000e+02\n",
       "25%      7.760000e+02\n",
       "50%      9.195000e+03\n",
       "75%      2.416998e+05\n",
       "max      1.798441e+09\n",
       "Name: file_size, dtype: float64"
      ]
     },
     "execution_count": 11,
     "metadata": {},
     "output_type": "execute_result"
    }
   ],
   "source": [
    "df['file_size'].describe()"
   ]
  },
  {
   "cell_type": "code",
   "execution_count": 12,
   "metadata": {},
   "outputs": [
    {
     "data": {
      "image/png": "[encoded data removed]",
      "text/plain": [
       "<Figure size 1080x504 with 2 Axes>"
      ]
     },
     "metadata": {
      "needs_background": "light"
     },
     "output_type": "display_data"
    }
   ],
   "source": [
    "plt.figure(figsize = (15, 7))\n",
    "\n",
    "plt.subplot(1, 2, 1)\n",
    "sns.distplot(df['file_size'], kde = False)\n",
    "plt.title('Distribution of File Size')\n",
    "plt.xlabel('File Size')\n",
    "plt.ylabel('Count')\n",
    "\n",
    "plt.subplot(1, 2, 2)\n",
    "sns.boxplot(df['file_size'])\n",
    "plt.title('Boxplot of File Size')\n",
    "plt.xlabel('File Size')\n",
    "\n",
    "plt.show()"
   ]
  },
  {
   "cell_type": "markdown",
   "metadata": {},
   "source": [
    "### 2.2 How does the size of the file relate to the number of rows in that file?\n",
    "\n",
    "* To visualize the relationship between file size and row count, a scatterplot was created along with a regression line\n",
    "* From the plot shown below, the file size generally relates to how many rows are in the file\n",
    "* A small file_size corresponds to a small row_count and similarly a large file_size corresponds to a large row_count (positive linear relationship)"
   ]
  },
  {
   "cell_type": "code",
   "execution_count": 13,
   "metadata": {},
   "outputs": [
    {
     "data": {
      "image/png": "[encoded data removed]",
      "text/plain": [
       "<Figure size 504x504 with 1 Axes>"
      ]
     },
     "metadata": {
      "needs_background": "light"
     },
     "output_type": "display_data"
    }
   ],
   "source": [
    "plt.figure(figsize = (7, 7))\n",
    "\n",
    "sns.regplot(df['file_size'], df['row_count'])\n",
    "plt.title('scatterplot + regression line (file_size, row_count)')\n",
    "\n",
    "plt.show()"
   ]
  },
  {
   "cell_type": "markdown",
   "metadata": {},
   "source": [
    "### 2.3 How long does it take to process all the data?\n",
    "\n",
    "* It takes around 3 to 4 minutes or so to process all the data (excluding 0.csv) "
   ]
  },
  {
   "cell_type": "code",
   "execution_count": 14,
   "metadata": {},
   "outputs": [
    {
     "name": "stdout",
     "output_type": "stream",
     "text": [
      "time taken to process all the data in minutes (excluding 0.csv):  4.004416483333333\n"
     ]
    }
   ],
   "source": [
    "end_time = datetime.datetime.now()\n",
    "run_time = end_time - start_time\n",
    "time_difference_in_minutes = run_time / datetime.timedelta(minutes = 1)\n",
    "\n",
    "print('time taken to process all the data in minutes (excluding 0.csv): ', time_difference_in_minutes)"
   ]
  },
  {
   "cell_type": "markdown",
   "metadata": {},
   "source": [
    "### 2.4 Do you think this same approach you took works for 10 times as many files? What if each file was 10 times larger?\n",
    "\n",
    "* The approach itself would work for both 10 times as many files and files that are 10 times larger\n",
    "* The time it would take would depend on how large those files are. If each file was 10 times longer, I wouldn't be surprised if the same process I used took multiple hours."
   ]
  },
  {
   "cell_type": "markdown",
   "metadata": {},
   "source": [
    "### 2.5 How do you imagine you could make it faster?\n",
    "\n",
    "* Buy a supercomputer\n",
    "* (?) Work with multiple computers with each working on a subset of the zip file, then save the data from each computer and compile it on 1 computer (?)\n"
   ]
  }
 ],
 "metadata": {
  "kernelspec": {
   "display_name": "Python 3",
   "language": "python",
   "name": "python3"
  },
  "language_info": {
   "codemirror_mode": {
    "name": "ipython",
    "version": 3
   },
   "file_extension": ".py",
   "mimetype": "text/x-python",
   "name": "python",
   "nbconvert_exporter": "python",
   "pygments_lexer": "ipython3",
   "version": "3.7.0"
  }
 },
 "nbformat": 4,
 "nbformat_minor": 2
}
